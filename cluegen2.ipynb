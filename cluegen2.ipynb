{
 "cells": [
  {
   "cell_type": "code",
   "execution_count": 4,
   "metadata": {},
   "outputs": [
    {
     "name": "stdout",
     "output_type": "stream",
     "text": [
      "The autoreload extension is already loaded. To reload it, use:\n",
      "  %reload_ext autoreload\n"
     ]
    }
   ],
   "source": [
    "import numpy as np\n",
    "import os\n",
    "import matplotlib.pyplot as plt\n",
    "from peewee import *\n",
    "from scipy.cluster.hierarchy import dendrogram, linkage\n",
    "from scipy.spatial.distance import pdist\n",
    "\n",
    "%load_ext autoreload\n",
    "%autoreload 2\n",
    "\n",
    "# load the glove vectors from the text file\n",
    "# and save them in a numpy array\n",
    "def load_glove_vectors(path):\n",
    "    glove_dict = {}\n",
    "    with open(path, 'r') as f:\n",
    "        for line in f:\n",
    "            line = line.strip().split()\n",
    "            glove_dict[line[0]] = np.array(line[1:], dtype=np.float32)\n",
    "    return glove_dict"
   ]
  },
  {
   "cell_type": "code",
   "execution_count": 23,
   "metadata": {},
   "outputs": [],
   "source": [
    "glove_mem = load_glove_vectors('glove.6B.300d.txt')"
   ]
  },
  {
   "cell_type": "code",
   "execution_count": 36,
   "metadata": {},
   "outputs": [
    {
     "ename": "AttributeError",
     "evalue": "'str' object has no attribute 'vector'",
     "output_type": "error",
     "traceback": [
      "\u001b[0;31m---------------------------------------------------------------------------\u001b[0m",
      "\u001b[0;31mAttributeError\u001b[0m                            Traceback (most recent call last)",
      "Cell \u001b[0;32mIn[36], line 3\u001b[0m\n\u001b[1;32m      1\u001b[0m \u001b[39mfrom\u001b[39;00m \u001b[39mglove_db\u001b[39;00m \u001b[39mimport\u001b[39;00m Glove\n\u001b[1;32m      2\u001b[0m glove \u001b[39m=\u001b[39m Glove(\u001b[39m'\u001b[39m\u001b[39m./\u001b[39m\u001b[39m'\u001b[39m)\n\u001b[0;32m----> 3\u001b[0m glove\u001b[39m.\u001b[39;49mvector(\u001b[39m'\u001b[39;49m\u001b[39mdog\u001b[39;49m\u001b[39m'\u001b[39;49m)\n",
      "File \u001b[0;32m~/projects/website/projects/cluegen_backend/glove_db.py:13\u001b[0m, in \u001b[0;36mGlove.vector\u001b[0;34m(self, word)\u001b[0m\n\u001b[1;32m     11\u001b[0m cur \u001b[39m=\u001b[39m \u001b[39mself\u001b[39m\u001b[39m.\u001b[39mdb\u001b[39m.\u001b[39mcursor()\n\u001b[1;32m     12\u001b[0m vector_str \u001b[39m=\u001b[39m cur\u001b[39m.\u001b[39mexecute(\u001b[39m\"\u001b[39m\u001b[39mSELECT vector FROM word WHERE word=\u001b[39m\u001b[39m\"\u001b[39m\u001b[39m+\u001b[39m\u001b[39m\"\u001b[39m\u001b[39m'\u001b[39m\u001b[39m\"\u001b[39m\u001b[39m+\u001b[39mword\u001b[39m+\u001b[39m\u001b[39m\"\u001b[39m\u001b[39m'\u001b[39m\u001b[39m;\u001b[39m\u001b[39m\"\u001b[39m)\u001b[39m.\u001b[39mfetchone()[\u001b[39m0\u001b[39m]\n\u001b[0;32m---> 13\u001b[0m \u001b[39mreturn\u001b[39;00m np\u001b[39m.\u001b[39marray(vector_str\u001b[39m.\u001b[39;49mvector\u001b[39m.\u001b[39msplit(\u001b[39m'\u001b[39m\u001b[39m,\u001b[39m\u001b[39m'\u001b[39m), dtype\u001b[39m=\u001b[39mnp\u001b[39m.\u001b[39mfloat32)\n",
      "\u001b[0;31mAttributeError\u001b[0m: 'str' object has no attribute 'vector'"
     ]
    }
   ],
   "source": [
    "from glove_db import Glove\n",
    "glove = Glove('./')\n",
    "glove.vector('dog')"
   ]
  },
  {
   "cell_type": "code",
   "execution_count": null,
   "metadata": {},
   "outputs": [],
   "source": [
    "same = []\n",
    "for word in tqdm.tqdm(glove_mem):\n",
    "    same.append(np.all(glove.vector('dog') == glove_mem['dog']))\n",
    "print(np.all(same))"
   ]
  },
  {
   "cell_type": "code",
   "execution_count": 18,
   "metadata": {},
   "outputs": [
    {
     "name": "stderr",
     "output_type": "stream",
     "text": [
      "100%|██████████| 400000/400000 [04:28<00:00, 1491.93it/s]\n"
     ]
    }
   ],
   "source": [
    "# define DB name\n",
    "db = SqliteDatabase('glove.db')\n",
    "\n",
    "# models\n",
    "class BaseModel(Model):\n",
    "    class Meta:\n",
    "        database = db\n",
    "\n",
    "# highest level, root node\n",
    "class Word(BaseModel):\n",
    "    word = CharField(unique=True)\n",
    "    vector = CharField()\n",
    "\n",
    "db.connect()\n",
    "db.create_tables([Word], safe = True)\n",
    "db.close()\n",
    "\n",
    "import tqdm\n",
    "for word in tqdm.tqdm(glove):\n",
    "    word_db = Word(word=str(word), vector=','.join(glove['dog'].astype(str)))\n",
    "    word_db.save()"
   ]
  },
  {
   "cell_type": "code",
   "execution_count": 40,
   "metadata": {},
   "outputs": [],
   "source": [
    "words = ['africa', 'ring', 'dog', 'earth', 'cat', \n",
    "         'apple', 'chair', 'table', 'book', 'pen', \n",
    "         'computer', 'phone', 'guitar', 'car', 'house', \n",
    "         'tree', 'flower', 'water', 'air', 'fire', \n",
    "         'sun', 'moon', 'star', 'sky', 'cloud']\n",
    "\n",
    "# get vectors for each word\n",
    "vectors = []\n",
    "for word in words:\n",
    "    vectors.append(glove[word])\n",
    "vectors = np.array(vectors)\n",
    "\n",
    "def cosine_similarity(x, y):\n",
    "    return np.dot(x, y) / (np.linalg.norm(x) * np.linalg.norm(y))"
   ]
  },
  {
   "cell_type": "code",
   "execution_count": 41,
   "metadata": {},
   "outputs": [
    {
     "name": "stdout",
     "output_type": "stream",
     "text": [
      "Intel MKL WARNING: Support of Intel(R) Streaming SIMD Extensions 4.2 (Intel(R) SSE4.2) enabled only processors has been deprecated. Intel oneAPI Math Kernel Library 2025.0 will require Intel(R) Advanced Vector Extensions (Intel(R) AVX) instructions.\n",
      "(25, 25)\n",
      "cat 0.28097135\n",
      "book 0.66469324\n",
      "house 0.7114701\n",
      "car 0.7207995\n",
      "pen 0.7437154\n",
      "tree 0.76180005\n",
      "table 0.7736581\n",
      "phone 0.7751636\n",
      "ring 0.7895328\n",
      "star 0.794706\n"
     ]
    },
    {
     "data": {
      "image/png": "[encoded data removed]",
      "text/plain": [
       "<Figure size 640x480 with 1 Axes>"
      ]
     },
     "metadata": {},
     "output_type": "display_data"
    }
   ],
   "source": [
    "dists = vectors @ vectors.T\n",
    "dists = 1 - dists / (np.linalg.norm(vectors, axis=1) * np.linalg.norm(vectors, axis=1))\n",
    "print(dists.shape)\n",
    "plt.imshow(dists)\n",
    "\n",
    "# sort the words by their distance to the word and print the top 10\n",
    "word = 'dog'\n",
    "word_idx = words.index(word)\n",
    "word_dists = dists[word_idx]\n",
    "word_idxs = np.argsort(word_dists)\n",
    "for i in range(1, 11):\n",
    "    print(words[word_idxs[i]], word_dists[word_idxs[i]])"
   ]
  },
  {
   "cell_type": "code",
   "execution_count": 48,
   "metadata": {},
   "outputs": [
    {
     "name": "stdout",
     "output_type": "stream",
     "text": [
      "['dog', 'cat'], 0.52\n",
      "['earth', 'moon'], 0.69\n",
      "['apple', 'computer'], 0.86\n",
      "['sun', 'sky'], 0.86\n",
      "['chair', 'table'], 0.88\n",
      "['tree', 'flower'], 0.88\n",
      "['water', 'fire'], 0.95\n",
      "['air', 'water', 'fire'], 0.95\n",
      "['cloud', 'sun', 'sky'], 0.96\n",
      "['phone', 'car'], 0.96\n",
      "['book', 'house'], 1.1\n",
      "['ring', 'star'], 1.14\n",
      "['earth', 'moon', 'cloud', 'sun', 'sky'], 1.14\n",
      "['chair', 'table', 'book', 'house'], 1.23\n",
      "['pen', 'guitar'], 1.33\n",
      "['apple', 'computer', 'phone', 'car'], 1.35\n",
      "['africa', 'ring', 'star'], 1.39\n",
      "['tree', 'flower', 'africa', 'ring', 'star'], 1.53\n"
     ]
    }
   ],
   "source": [
    "clusters = cluster_words(words)\n",
    "for cluster in clusters:\n",
    "    print(cluster)"
   ]
  },
  {
   "cell_type": "code",
   "execution_count": 22,
   "metadata": {},
   "outputs": [
    {
     "data": {
      "text/plain": [
       "(29647,)"
      ]
     },
     "execution_count": 22,
     "metadata": {},
     "output_type": "execute_result"
    }
   ],
   "source": [
    "all_clue_words = []\n",
    "all_clue_vectors = []\n",
    "for word in np.load(os.path.join('./', 'all_clue_words.npy')):\n",
    "    if word.lower() in glove:\n",
    "        all_clue_words.append(word.lower())\n",
    "        all_clue_vectors.append(glove[word.lower()])\n",
    "all_clue_words = np.array(all_clue_words)\n",
    "all_clue_vectors = np.array(all_clue_vectors)\n",
    "\n",
    "all_clue_words.shape"
   ]
  },
  {
   "cell_type": "code",
   "execution_count": null,
   "metadata": {},
   "outputs": [],
   "source": [
    "def no_word_overlap(word, words):\n",
    "        # make sure the word does not equal,\n",
    "        # or is not a substring of any of the words, and vice versa\n",
    "        return (word not in words) and (not any([word in w for w in words]) and (not any([w in word for w in words])))\n",
    "\n",
    "\n",
    "class _Leaf(object):\n",
    "    def __init__(self, word):\n",
    "        self.lemma = word\n",
    "    \n",
    "    def __str__(self):\n",
    "        return self.lemma\n",
    "\n",
    "\n",
    "class _Cluster(object):\n",
    "    def __init__(self, distance, children):\n",
    "        self.distance = distance\n",
    "        self.children = children\n",
    "        self.lemmas = []\n",
    "    \n",
    "    def get_lemmas(self):\n",
    "        # populate the lemmas array if it is empty\n",
    "        if len(self.lemmas) == 0:\n",
    "            for child in self.children:\n",
    "                if isinstance(child, _Leaf):\n",
    "                    self.lemmas.append(child.lemma)\n",
    "                else:\n",
    "                    self.lemmas.extend(child.get_lemmas())\n",
    "        return self.lemmas\n",
    "    \n",
    "    def __str__(self):\n",
    "        return str(self.get_lemmas()) + ', ' + str(np.round(self.distance, 2))\n",
    "\n",
    "\n",
    "# create a proper tree structure,\n",
    "# where each node has the average distance of its children\n",
    "def convert_to_tree(pairs, words):\n",
    "    leaves = {}\n",
    "    clusters = {}\n",
    "\n",
    "    for i, row in enumerate(pairs):\n",
    "        if row[0] < len(words):\n",
    "            # if it is an original point read it from the centers array\n",
    "            a = words[int(row[0])]\n",
    "            a = _Leaf(a)\n",
    "            leaves[row[0]] = a\n",
    "        else:\n",
    "            # other wise read the cluster that has been created\n",
    "            a = clusters[int(row[0])]\n",
    "\n",
    "        if row[1] < len(words):\n",
    "            b = words[int(row[1])]\n",
    "            b = _Leaf(b)\n",
    "            leaves[row[1]] = b\n",
    "        else:\n",
    "            b = clusters[int(row[1])]\n",
    "\n",
    "        # set a and b as children of the new node\n",
    "        distance = row[2]\n",
    "        cluster = _Cluster(distance, children=[a, b])\n",
    "\n",
    "        clusters[1 + i + len(pairs)] = cluster\n",
    "    return clusters\n",
    "\n",
    "\n",
    "def cluster_words(words, max_cluster_size=5):\n",
    "    # use the wordA.similarity(wordB) metric\n",
    "    # to get a similarity matrix\n",
    "    similarity_matrix = np.zeros((len(words), len(words)))\n",
    "    for i in range(len(words)):\n",
    "        vector_i = glove[words[i]]\n",
    "        for j in range(len(words)):\n",
    "            vector_j = glove[words[j]]\n",
    "            similarity_matrix[i, j] =  cosine_similarity(vector_i, vector_j)\n",
    "    condensed_similarity_matrix = pdist(similarity_matrix)\n",
    "    # use the similarity matrix to cluster the words\n",
    "    Z = linkage(condensed_similarity_matrix, 'ward')\n",
    "\n",
    "    clusters = convert_to_tree(Z, words)\n",
    "\n",
    "    # remove clusters that are too big and far apart\n",
    "    clusters = {k: v for k, v in clusters.items() if len(v.get_lemmas()) <= max_cluster_size}\n",
    "    #clusters = {k: v for k, v in clusters.items() if v.distance <= max_distance}\n",
    "    return list(clusters.values())"
   ]
  },
  {
   "cell_type": "code",
   "execution_count": 92,
   "metadata": {},
   "outputs": [
    {
     "name": "stdout",
     "output_type": "stream",
     "text": [
      "['tailoring', 'tailor'], 0.66\n",
      "['artwork', 'display'], 0.86\n",
      "['creativity', 'boundless'], 0.95\n",
      "['spyware', 'shampoos'], 1.07\n",
      "['clam', 'sweets'], 1.25\n",
      "['councillors', 'reformed'], 1.26\n",
      "['scanner', 'spyware', 'shampoos'], 1.27\n",
      "['promotion', 'resist'], 1.27\n",
      "['phosphorus', 'crim'], 1.28\n",
      "['skyscraper', 'pipe'], 1.31\n",
      "['envoy', 'ceo'], 1.31\n",
      "['misfortune', 'creativity', 'boundless'], 1.33\n",
      "['gruber', 'envoy', 'ceo'], 1.41\n",
      "['article', 'artwork', 'display'], 1.41\n",
      "['overcrowding', 'councillors', 'reformed'], 1.43\n",
      "['clam', 'sweets', 'phosphorus', 'crim'], 1.52\n",
      "['promotion', 'resist', 'article', 'artwork', 'display'], 1.62\n",
      "['tailoring', 'tailor', 'scanner', 'spyware', 'shampoos'], 1.87\n",
      "\n",
      "['tailoring', 'tailor'] --> ['bespoke' 'carpentry'] [0.87149   1.2243845]\n",
      "['artwork', 'display'] --> ['exhibit' 'paintings'] [0.8984322  0.92230827]\n",
      "['creativity', 'boundless'] --> ['ingenuity' 'limitless'] [0.9306278 0.9427786]\n",
      "['spyware', 'shampoos'] --> ['adware' 'lotions'] [0.9098205 1.0376933]\n",
      "['clam', 'sweets'] --> ['cakes' 'pastries'] [1.0450976 1.1482294]\n",
      "['councillors', 'reformed'] --> ['elected' 'wards'] [1.1897544 1.2369618]\n",
      "['scanner', 'spyware', 'shampoos'] --> ['adware' 'antivirus'] [1.7595141 1.7941592]\n",
      "['promotion', 'resist'] --> ['promote' 'fight'] [1.1716576 1.2137296]\n",
      "['phosphorus', 'crim'] --> ['phosphorous' 'inorganic'] [1.1598158 1.3242283]\n",
      "['skyscraper', 'pipe'] --> ['tallest' 'tower'] [1.244699  1.2541099]\n",
      "['envoy', 'ceo'] --> ['chief' 'executive'] [1.0546468 1.0716536]\n",
      "['misfortune', 'creativity', 'boundless'] --> ['ingenuity' 'generosity'] [1.6241087 1.7267641]\n",
      "['gruber', 'envoy', 'ceo'] --> ['chief' 'executive'] [2.0219564 2.0459   ]\n",
      "['article', 'artwork', 'display'] --> ['exhibit' 'photographs'] [1.6839886 1.7108611]\n",
      "['overcrowding', 'councillors', 'reformed'] --> ['wards' 'abolished'] [1.9819458 2.1819186]\n",
      "['clam', 'sweets', 'phosphorus', 'crim'] --> ['phosphorous' 'candies'] [2.9250627 2.99935  ]\n",
      "['promotion', 'resist', 'article', 'artwork', 'display'] --> ['exhibit' 'feature'] [3.4423113 3.5068262]\n",
      "['tailoring', 'tailor', 'scanner', 'spyware', 'shampoos'] --> ['bespoke' 'customizing'] [3.4843411 3.5846524]\n"
     ]
    }
   ],
   "source": [
    "words = np.random.choice(all_clue_words, 25, replace=False)\n",
    "\n",
    "clusters = cluster_words(words)\n",
    "for cluster in clusters:\n",
    "    print(cluster)\n",
    "print()\n",
    "\n",
    "def generate_clue(words):\n",
    "    vectors = np.array([glove[word.lower()] for word in words])\n",
    "\n",
    "    # filter out clues that overlap with the words\n",
    "    possible_clues = []\n",
    "    possible_vectors = []\n",
    "    for clue, vector in zip(all_clue_words, all_clue_vectors):\n",
    "        if no_word_overlap(clue, words):\n",
    "            possible_clues.append(clue)\n",
    "            possible_vectors.append(vector)\n",
    "    possible_clues = np.array(possible_clues)\n",
    "    possible_vectors = np.array(possible_vectors)\n",
    "\n",
    "    dists = possible_vectors @ vectors.T\n",
    "    dists = 1 - dists / (np.expand_dims(np.linalg.norm(vectors, axis=1),0) * np.expand_dims(np.linalg.norm(possible_vectors, axis=1), 1))\n",
    "    best_dists = np.sum(dists, axis=1) # - np.sum(your_dists, axis=1)\n",
    "    clue_idxs = np.argsort(best_dists)[:10]\n",
    "    return possible_clues[clue_idxs], best_dists[clue_idxs]\n",
    "\n",
    "\n",
    "for cluster in clusters:\n",
    "    words = cluster.get_lemmas()\n",
    "    clues, dists = generate_clue(words)\n",
    "    print(words, '-->', clues[:2], dists[:2])"
   ]
  },
  {
   "cell_type": "code",
   "execution_count": 37,
   "metadata": {},
   "outputs": [
    {
     "name": "stdout",
     "output_type": "stream",
     "text": [
      "ClueGenerator initialized\n"
     ]
    }
   ],
   "source": [
    "import cluegen\n",
    "clue_generator = cluegen.ClueGenerator(path='./')"
   ]
  },
  {
   "cell_type": "code",
   "execution_count": 40,
   "metadata": {},
   "outputs": [
    {
     "name": "stdout",
     "output_type": "stream",
     "text": [
      "['tree', 'grass'], 0.83\n",
      "['plant', 'tree', 'grass'], 1.02\n",
      "['lake', 'plant', 'tree', 'grass'], 1.27\n"
     ]
    }
   ],
   "source": [
    "clusters = clue_generator.cluster_words(['tree', 'grass', 'lake', 'plant'])\n",
    "for cluster in clusters:\n",
    "    print(cluster)\n",
    "\n",
    "#clue_generator.get_clue(['tree', 'grass', 'lake'])"
   ]
  },
  {
   "cell_type": "code",
   "execution_count": 26,
   "metadata": {},
   "outputs": [],
   "source": [
    "# save all_clue_words and all_clue_vectors using numpy\n",
    "np.save('all_clue_words.npy', all_clue_words)\n",
    "np.save('all_clue_vectors.npy', all_clue_vectors)"
   ]
  },
  {
   "cell_type": "code",
   "execution_count": 27,
   "metadata": {},
   "outputs": [],
   "source": [
    "import pickle\n",
    "# save the glove vectors\n",
    "glove_dict = {}\n",
    "glove_vectors = []\n",
    "with open('./glove.6B.300d.txt', 'r') as f:\n",
    "    for i, line in enumerate(f):\n",
    "        line = line.strip().split()\n",
    "        glove_dict[line[0]] = i\n",
    "        glove_vectors.append(np.array(line[1:], dtype=np.float32))\n",
    "glove_vectors = np.array(glove_vectors)\n",
    "\n",
    "# pickle the glove_dict and save the glove_vectors\n",
    "with open('glove_dict.pkl', 'wb') as f:\n",
    "    pickle.dump(glove_dict, f)\n",
    "np.save('glove_vectors.npy', glove_vectors)"
   ]
  },
  {
   "cell_type": "code",
   "execution_count": 36,
   "metadata": {},
   "outputs": [
    {
     "data": {
      "text/plain": [
       "array([4, 3, 2])"
      ]
     },
     "execution_count": 36,
     "metadata": {},
     "output_type": "execute_result"
    }
   ],
   "source": [
    "a = np.array([1,2,3,4,5])\n",
    "a[~np.array([1,2,3])]"
   ]
  },
  {
   "cell_type": "code",
   "execution_count": null,
   "metadata": {},
   "outputs": [],
   "source": []
  }
 ],
 "metadata": {
  "kernelspec": {
   "display_name": "gpu",
   "language": "python",
   "name": "python3"
  },
  "language_info": {
   "codemirror_mode": {
    "name": "ipython",
    "version": 3
   },
   "file_extension": ".py",
   "mimetype": "text/x-python",
   "name": "python",
   "nbconvert_exporter": "python",
   "pygments_lexer": "ipython3",
   "version": "3.10.12"
  },
  "orig_nbformat": 4
 },
 "nbformat": 4,
 "nbformat_minor": 2
}
